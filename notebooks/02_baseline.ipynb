{
 "cells": [
  {
   "cell_type": "markdown",
   "id": "bb65fd58",
   "metadata": {},
   "source": [
    "# Notebook"
   ]
  },
  {
   "cell_type": "code",
   "execution_count": 8,
   "id": "35c777b0",
   "metadata": {},
   "outputs": [
    {
     "name": "stdout",
     "output_type": "stream",
     "text": [
      "LinearRegression RMSE: 0.1281 R2: 0.9121\n",
      "DecisionTree RMSE: 0.2021 R2: 0.7811\n"
     ]
    }
   ],
   "source": [
    "import sys, os\n",
    "sys.path.append(os.path.abspath(\"..\"))  # this makes src/ visible\n",
    "import numpy as np, pandas as pd, joblib\n",
    "from sklearn.model_selection import train_test_split\n",
    "from sklearn.pipeline import Pipeline\n",
    "from sklearn.linear_model import LinearRegression\n",
    "from sklearn.tree import DecisionTreeRegressor\n",
    "from sklearn.metrics import mean_squared_error, r2_score\n",
    "from src.pipeline import add_features, build_preprocessor\n",
    "\n",
    "df = pd.read_csv(\"../data/train.csv\")\n",
    "df = add_features(df)\n",
    "preprocessor, feature_cols, y_col = build_preprocessor(df)\n",
    "\n",
    "X = df[feature_cols]\n",
    "y = df[y_col] if y_col == 'SalePriceLog' else np.log1p(df['SalePrice'])\n",
    "X_train, X_valid, y_train, y_valid = train_test_split(X, y, test_size=0.2, random_state=42)\n",
    "\n",
    "pipes = {\n",
    "    \"LinearRegression\": Pipeline([(\"prep\", preprocessor), (\"model\", LinearRegression())]),\n",
    "    \"DecisionTree\": Pipeline([(\"prep\", preprocessor), (\"model\", DecisionTreeRegressor(random_state=42))])\n",
    "}\n",
    "\n",
    "for name, pipe in pipes.items():\n",
    "    pipe.fit(X_train, y_train)\n",
    "    pred = pipe.predict(X_valid)\n",
    "   # rmse = mean_squared_error(y_valid, pred, squared=False)\n",
    "    rmse = mean_squared_error(y_valid, pred) ** 0.5\n",
    "    r2 = r2_score(y_valid, pred)\n",
    "    print(name, \"RMSE:\", round(rmse,4), \"R2:\", round(r2,4))"
   ]
  }
 ],
 "metadata": {
  "kernelspec": {
   "display_name": "house-price-ml",
   "language": "python",
   "name": "house-price-ml"
  },
  "language_info": {
   "codemirror_mode": {
    "name": "ipython",
    "version": 3
   },
   "file_extension": ".py",
   "mimetype": "text/x-python",
   "name": "python",
   "nbconvert_exporter": "python",
   "pygments_lexer": "ipython3",
   "version": "3.12.7"
  }
 },
 "nbformat": 4,
 "nbformat_minor": 5
}
