{
 "cells": [
  {
   "cell_type": "markdown",
   "id": "3bd272fc",
   "metadata": {},
   "source": [
    "# Notebook"
   ]
  },
  {
   "cell_type": "code",
   "execution_count": 4,
   "id": "6740693e",
   "metadata": {},
   "outputs": [
    {
     "name": "stdout",
     "output_type": "stream",
     "text": [
      "Fitting 5 folds for each of 72 candidates, totalling 360 fits\n",
      "Best params: {'model__colsample_bytree': 0.8, 'model__learning_rate': 0.05, 'model__max_depth': 3, 'model__n_estimators': 800, 'model__subsample': 0.8} CV RMSE: 0.12428175915941435\n",
      "Holdout RMSE: 0.1299 R2: 0.9096\n",
      "Saved model to ../models/house_price_pipeline.joblib\n"
     ]
    }
   ],
   "source": [
    "import sys, os\n",
    "sys.path.append(os.path.abspath(\"..\"))  # this makes src/ visible\n",
    "os.makedirs(\"../models\", exist_ok=True)\n",
    "import numpy as np, pandas as pd, joblib\n",
    "from sklearn.model_selection import train_test_split, GridSearchCV\n",
    "from sklearn.pipeline import Pipeline\n",
    "from sklearn.metrics import mean_squared_error, r2_score\n",
    "from xgboost import XGBRegressor\n",
    "from src.pipeline import add_features, build_preprocessor\n",
    "\n",
    "df = pd.read_csv(\"../data/train.csv\")\n",
    "df = add_features(df)\n",
    "preprocessor, feature_cols, y_col = build_preprocessor(df)\n",
    "X = df[feature_cols]\n",
    "y = df[y_col] if y_col == 'SalePriceLog' else np.log1p(df['SalePrice'])\n",
    "X_train, X_valid, y_train, y_valid = train_test_split(X, y, test_size=0.2, random_state=42)\n",
    "\n",
    "pipe = Pipeline([(\"prep\", preprocessor), (\"model\", XGBRegressor(random_state=42, tree_method=\"hist\"))])\n",
    "\n",
    "param_grid = {\n",
    "    \"model__n_estimators\": [400, 600, 800],\n",
    "    \"model__max_depth\": [3,4,5],\n",
    "    \"model__learning_rate\": [0.05, 0.1],\n",
    "    \"model__subsample\": [0.8, 1.0],\n",
    "    \"model__colsample_bytree\": [0.8, 1.0]\n",
    "}\n",
    "\n",
    "cv = GridSearchCV(pipe, param_grid, scoring=\"neg_root_mean_squared_error\", cv=5, n_jobs=-1, verbose=1)\n",
    "cv.fit(X_train, y_train)\n",
    "print(\"Best params:\", cv.best_params_, \"CV RMSE:\", -cv.best_score_)\n",
    "\n",
    "best_model = cv.best_estimator_\n",
    "pred = best_model.predict(X_valid)\n",
    "#rmse = mean_squared_error(y_valid, pred, squared=False)\n",
    "rmse = mean_squared_error(y_valid, pred) ** 0.5\n",
    "r2 = r2_score(y_valid, pred)\n",
    "print(\"Holdout RMSE:\", round(rmse,4), \"R2:\", round(r2,4))\n",
    "\n",
    "joblib.dump(best_model, \"../models/house_price_pipeline.joblib\")\n",
    "print(\"Saved model to ../models/house_price_pipeline.joblib\")"
   ]
  }
 ],
 "metadata": {
  "kernelspec": {
   "display_name": "house-price-ml",
   "language": "python",
   "name": "house-price-ml"
  },
  "language_info": {
   "codemirror_mode": {
    "name": "ipython",
    "version": 3
   },
   "file_extension": ".py",
   "mimetype": "text/x-python",
   "name": "python",
   "nbconvert_exporter": "python",
   "pygments_lexer": "ipython3",
   "version": "3.12.7"
  }
 },
 "nbformat": 4,
 "nbformat_minor": 5
}
